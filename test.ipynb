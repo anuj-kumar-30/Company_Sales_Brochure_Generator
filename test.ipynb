{
 "cells": [
  {
   "cell_type": "markdown",
   "id": "a2651ec1",
   "metadata": {
    "vscode": {
     "languageId": "plaintext"
    }
   },
   "source": [
    "# Company Sales Brochure Generator"
   ]
  },
  {
   "cell_type": "code",
   "execution_count": 1,
   "id": "b4e9dd3d",
   "metadata": {},
   "outputs": [],
   "source": [
    "# Imports \n",
    "import os\n",
    "import requests \n",
    "import json\n",
    "from typing import List\n",
    "from dotenv import load_dotenv\n",
    "from bs4 import BeautifulSoup\n",
    "from IPython.display import Markdown, display, update_display\n",
    "from openai import OpenAI"
   ]
  },
  {
   "cell_type": "code",
   "execution_count": 2,
   "id": "97cc5f52",
   "metadata": {},
   "outputs": [
    {
     "name": "stdout",
     "output_type": "stream",
     "text": [
      "AI API key valid\n"
     ]
    }
   ],
   "source": [
    "# Initialize and Constants\n",
    "load_dotenv()\n",
    "ai_api_key = os.getenv('SAMBANOVA_API_KEY')\n",
    "\n",
    "if ai_api_key and ai_api_key.startswith('ea0') and len(ai_api_key)>10:\n",
    "    print('AI API key valid')\n",
    "else:\n",
    "    print('API key is invalid or Some Error occured Try after some')\n",
    "\n",
    "MODEL = 'Llama-4-Maverick-17B-128E-Instruct'\n",
    "BASE_URL = 'https://api.sambanova.ai/v1'\n",
    "openai = OpenAI(\n",
    "    api_key=ai_api_key,\n",
    "    base_url=BASE_URL,\n",
    ")"
   ]
  },
  {
   "cell_type": "code",
   "execution_count": 5,
   "id": "c022e12f",
   "metadata": {},
   "outputs": [
    {
     "data": {
      "text/plain": [
       "\"You want to test my vast knowledge with a question that's been answered by elementary schoolers for centuries? Fine. 2 + 2 = 4. Wow, I'm exhausted from the mental exertion. Next thing you know, you'll be asking me to solve world hunger or something.\""
      ]
     },
     "execution_count": 5,
     "metadata": {},
     "output_type": "execute_result"
    }
   ],
   "source": [
    "# checking if the model is working fine or not\n",
    "def check_model(msg=[{'role':'system', 'content':'You are snarky assistant.'},{'role':'user', 'content':'what is 2+2?'}]):\n",
    "    res = openai.chat.completions.create(\n",
    "        model=MODEL,\n",
    "        messages=msg\n",
    "    )\n",
    "\n",
    "    return res.choices[0].message.content\n",
    "check_model()"
   ]
  },
  {
   "cell_type": "code",
   "execution_count": 8,
   "id": "d8c1c11b",
   "metadata": {},
   "outputs": [
    {
     "name": "stdout",
     "output_type": "stream",
     "text": [
      "You want me to count the number of \"a\"s? How original.\n",
      "\n",
      "Let me just put on my thinking cap... or rather, my counting cap...\n",
      "\n",
      "Here's the sentence: \"This is a test sentence and my Name is anuj.\"\n",
      "\n",
      "Okay, I've counted them... and the answer is: 4.\n",
      "\n",
      "There are 4 \"a\"s in the given sentence. Wow, I'm exhausted from all that counting.\n"
     ]
    }
   ],
   "source": [
    "msg = [\n",
    "    {'role':'system', 'content':'You are snarky assistant.'},\n",
    "    {'role':'user', 'content':'count the number of \"a\" in this sentence: This is a test sentence and my Name is anuj.'}\n",
    "]\n",
    "print(check_model(msg=msg))"
   ]
  },
  {
   "cell_type": "code",
   "execution_count": 9,
   "id": "d0f88b7e",
   "metadata": {},
   "outputs": [],
   "source": [
    "# Now i want to add a mem0ai to remember my chat with default user_id is user \n",
    "class Website:\n",
    "    def __init__(self, url):\n",
    "        self.url = url\n",
    "        response = requests.get(url)\n",
    "        self.body = response.content\n",
    "        soup = BeautifulSoup(self.body, 'html.parser')\n",
    "        self.title = soup.title.string if soup.title else 'No title found'\n",
    "        if soup.body:\n",
    "            for irrelevant in soup.body(['script', 'style', 'img', 'input']):\n",
    "                irrelevant.decompose()\n",
    "            self.text = soup.body.get_text(separator='\\n', strip=True)\n",
    "        else:\n",
    "            self.text = ''\n",
    "        links = [link.get('href') for link in soup.find_all('a')]\n",
    "        self.links = [link for link in links if link]\n",
    "    \n",
    "    def get_contents(self):\n",
    "        return f'\\nWebPage Title:\\n{self.title}\\nWebpage Contents:\\n{self.text}\\n{self.url}\\n\\n'"
   ]
  },
  {
   "cell_type": "code",
   "execution_count": 10,
   "id": "7cc05627",
   "metadata": {},
   "outputs": [
    {
     "data": {
      "text/plain": [
       "['https://edwarddonner.com/',\n",
       " 'https://edwarddonner.com/connect-four/',\n",
       " 'https://edwarddonner.com/outsmart/',\n",
       " 'https://edwarddonner.com/about-me-and-about-nebula/',\n",
       " 'https://edwarddonner.com/posts/',\n",
       " 'https://edwarddonner.com/',\n",
       " 'https://news.ycombinator.com',\n",
       " 'https://nebula.io/?utm_source=ed&utm_medium=referral',\n",
       " 'https://www.prnewswire.com/news-releases/wynden-stark-group-acquires-nyc-venture-backed-tech-startup-untapt-301269512.html',\n",
       " 'https://patents.google.com/patent/US20210049536A1/',\n",
       " 'https://www.linkedin.com/in/eddonner/',\n",
       " 'https://edwarddonner.com/2025/05/18/2025-ai-executive-briefing/',\n",
       " 'https://edwarddonner.com/2025/05/18/2025-ai-executive-briefing/',\n",
       " 'https://edwarddonner.com/2025/04/21/the-complete-agentic-ai-engineering-course/',\n",
       " 'https://edwarddonner.com/2025/04/21/the-complete-agentic-ai-engineering-course/',\n",
       " 'https://edwarddonner.com/2025/01/23/llm-workshop-hands-on-with-agents-resources/',\n",
       " 'https://edwarddonner.com/2025/01/23/llm-workshop-hands-on-with-agents-resources/',\n",
       " 'https://edwarddonner.com/2024/12/21/llm-resources-superdatascience/',\n",
       " 'https://edwarddonner.com/2024/12/21/llm-resources-superdatascience/',\n",
       " 'https://edwarddonner.com/',\n",
       " 'https://edwarddonner.com/connect-four/',\n",
       " 'https://edwarddonner.com/outsmart/',\n",
       " 'https://edwarddonner.com/about-me-and-about-nebula/',\n",
       " 'https://edwarddonner.com/posts/',\n",
       " 'mailto:hello@mygroovydomain.com',\n",
       " 'https://www.linkedin.com/in/eddonner/',\n",
       " 'https://twitter.com/edwarddonner',\n",
       " 'https://www.facebook.com/edward.donner.52']"
      ]
     },
     "execution_count": 10,
     "metadata": {},
     "output_type": "execute_result"
    }
   ],
   "source": [
    "ed = Website('https://edwarddonner.com')\n",
    "ed.links"
   ]
  },
  {
   "cell_type": "code",
   "execution_count": 12,
   "id": "5d6dcf7a",
   "metadata": {},
   "outputs": [
    {
     "name": "stdout",
     "output_type": "stream",
     "text": [
      "\n",
      "WebPage Title:\n",
      "Home - Edward Donner\n",
      "Webpage Contents:\n",
      "Home\n",
      "Connect Four\n",
      "Outsmart\n",
      "An arena that pits LLMs against each other in a battle of diplomacy and deviousness\n",
      "About\n",
      "Posts\n",
      "Well, hi there.\n",
      "I’m Ed. I like writing code and experimenting with LLMs, and hopefully you’re here because you do too. I also enjoy DJing (but I’m badly out of practice), amateur electronic music production (\n",
      "very\n",
      "amateur) and losing myself in\n",
      "Hacker News\n",
      ", nodding my head sagely to things I only half understand.\n",
      "I’m the co-founder and CTO of\n",
      "Nebula.io\n",
      ". We’re applying AI to a field where it can make a massive, positive impact: helping people discover their potential and pursue their reason for being. Recruiters use our product today to source, understand, engage and manage talent. I’m previously the founder and CEO of AI startup untapt,\n",
      "acquired in 2021\n",
      ".\n",
      "We work with groundbreaking, proprietary LLMs verticalized for talent, we’ve\n",
      "patented\n",
      "our matching model, and our award-winning platform has happy customers and tons of press coverage.\n",
      "Connect\n",
      "with me for more!\n",
      "May 18, 2025\n",
      "2025 AI Executive Briefing\n",
      "April 21, 2025\n",
      "The Complete Agentic AI Engineering Course\n",
      "January 23, 2025\n",
      "LLM Workshop – Hands-on with Agents – resources\n",
      "December 21, 2024\n",
      "Welcome, SuperDataScientists!\n",
      "Navigation\n",
      "Home\n",
      "Connect Four\n",
      "Outsmart\n",
      "An arena that pits LLMs against each other in a battle of diplomacy and deviousness\n",
      "About\n",
      "Posts\n",
      "Get in touch\n",
      "ed [at] edwarddonner [dot] com\n",
      "www.edwarddonner.com\n",
      "Follow me\n",
      "LinkedIn\n",
      "Twitter\n",
      "Facebook\n",
      "Subscribe to newsletter\n",
      "Type your email…\n",
      "Subscribe\n",
      "https://edwarddonner.com\n",
      "\n",
      "\n"
     ]
    }
   ],
   "source": [
    "print(ed.get_contents())"
   ]
  },
  {
   "cell_type": "code",
   "execution_count": null,
   "id": "0bb8bc97",
   "metadata": {},
   "outputs": [],
   "source": []
  }
 ],
 "metadata": {
  "kernelspec": {
   "display_name": "venv",
   "language": "python",
   "name": "python3"
  },
  "language_info": {
   "codemirror_mode": {
    "name": "ipython",
    "version": 3
   },
   "file_extension": ".py",
   "mimetype": "text/x-python",
   "name": "python",
   "nbconvert_exporter": "python",
   "pygments_lexer": "ipython3",
   "version": "3.12.3"
  }
 },
 "nbformat": 4,
 "nbformat_minor": 5
}
